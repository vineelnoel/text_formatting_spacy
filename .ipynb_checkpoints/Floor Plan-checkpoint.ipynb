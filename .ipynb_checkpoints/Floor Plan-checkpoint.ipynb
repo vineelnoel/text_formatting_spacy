{
 "cells": [
  {
   "cell_type": "markdown",
   "metadata": {},
   "source": [
    "# Importing packages"
   ]
  },
  {
   "cell_type": "code",
   "execution_count": 1,
   "metadata": {},
   "outputs": [],
   "source": [
    "import spacy\n",
    "import json\n",
    "import pandas as pd\n",
    "import re"
   ]
  },
  {
   "cell_type": "markdown",
   "metadata": {},
   "source": [
    "# Obtaining JSON file"
   ]
  },
  {
   "cell_type": "code",
   "execution_count": 2,
   "metadata": {},
   "outputs": [],
   "source": [
    "floors = []\n",
    "for line in open('final.json', 'r'):\n",
    "    floors.append(json.loads(line))"
   ]
  },
  {
   "cell_type": "code",
   "execution_count": 3,
   "metadata": {},
   "outputs": [],
   "source": [
    "nlp = spacy.load('en_core_web_sm')"
   ]
  },
  {
   "cell_type": "markdown",
   "metadata": {},
   "source": [
    "# Getting connections from the annotations"
   ]
  },
  {
   "cell_type": "code",
   "execution_count": 4,
   "metadata": {
    "scrolled": true
   },
   "outputs": [],
   "source": [
    "list_of_connections = []\n",
    "for dic in floors:\n",
    "    connections = []\n",
    "    for annot_dic in dic['annotation']:\n",
    "        if annot_dic['label'] == 'CONNECTION':\n",
    "            connections.append(annot_dic['text'])\n",
    "    list_of_connections.append(connections)"
   ]
  },
  {
   "cell_type": "markdown",
   "metadata": {},
   "source": [
    "# Reformating list_of_connections to a new list"
   ]
  },
  {
   "cell_type": "code",
   "execution_count": 5,
   "metadata": {},
   "outputs": [],
   "source": [
    "new_list_connections = []\n",
    "for floor in list_of_connections:\n",
    "    connections = []\n",
    "    for room in floor:\n",
    "        temp = nlp(room)\n",
    "        for sent in temp.sents:\n",
    "            connections.append(sent.text)\n",
    "    new_list_connections.append(connections)"
   ]
  },
  {
   "cell_type": "markdown",
   "metadata": {},
   "source": [
    "# Initializing a dictionary of 50 dataframes"
   ]
  },
  {
   "cell_type": "code",
   "execution_count": 6,
   "metadata": {
    "scrolled": true
   },
   "outputs": [],
   "source": [
    "floor_dictionary = {}\n",
    "for i in range(50):\n",
    "    floor_dictionary['floor'+str(i+1)] = pd.DataFrame(columns=['RoomType','Link'])"
   ]
  },
  {
   "cell_type": "markdown",
   "metadata": {},
   "source": [
    "# Checking pattern if rooms are connected"
   ]
  },
  {
   "cell_type": "code",
   "execution_count": 7,
   "metadata": {},
   "outputs": [],
   "source": [
    "def check_pattern(sent):\n",
    "    doc = nlp(sent)\n",
    "\n",
    "    expression = r\"\\w+(\\s*,\\s*\\w+)*\\s*and\\s*(\\w+\\s*are\\s*connected)\\.?\"\n",
    "    for match in re.finditer(expression, doc.text):\n",
    "        start, end = match.span()\n",
    "        span = doc.char_span(start, end)\n",
    "        # This is a Span object or None if match doesn't map to valid token sequence\n",
    "        if span is not None:\n",
    "            return 1\n",
    "    return 0"
   ]
  },
  {
   "cell_type": "markdown",
   "metadata": {},
   "source": [
    "# If rooms are connected, adding to the corresponding dataframe"
   ]
  },
  {
   "cell_type": "code",
   "execution_count": 8,
   "metadata": {},
   "outputs": [],
   "source": [
    "def add_pattern_connected(floor_df,sent):\n",
    "    doc = nlp(sent)\n",
    "    lst = []\n",
    "    for token in doc:\n",
    "        if token.pos_ == 'PROPN' or token.pos_ == 'NOUN' or token.tag_ == 'VB':\n",
    "            lst.append(token.text)\n",
    "    for i in range(len(lst)):\n",
    "        if i == len(lst) - 1:\n",
    "            floor_df = floor_df.append({'RoomType':lst[i],'Link':lst[0]}, ignore_index=True)\n",
    "        else:\n",
    "            floor_df = floor_df.append({'RoomType':lst[i],'Link':lst[i+1]}, ignore_index=True)\n",
    "    return floor_df"
   ]
  },
  {
   "cell_type": "markdown",
   "metadata": {},
   "source": [
    "# If rooms are adjacent/next to, adding to the corresponding dataframe"
   ]
  },
  {
   "cell_type": "code",
   "execution_count": 9,
   "metadata": {},
   "outputs": [],
   "source": [
    "def add_pattern_adjacent(floor_df, sent):\n",
    "    doc = nlp(sent)\n",
    "\n",
    "    expression = r\"\\w+\\s*is\\s*\\w+\\s*to\\s*\\w+(\\s*,\\s*\\w+)*\\.?\"\n",
    "    for match in re.finditer(expression, doc.text):\n",
    "        start, end = match.span()\n",
    "        span = doc.char_span(start, end)\n",
    "        # This is a Span object or None if match doesn't map to valid token sequence\n",
    "        if span is not None:\n",
    "            doc = nlp(sent)\n",
    "            lst = []\n",
    "            for token in doc:\n",
    "                if token.pos_ == 'PROPN' or token.pos_ == 'NOUN' or token.tag_ == 'VB':\n",
    "                    lst.append(token.text)\n",
    "            for i in range(len(lst)):\n",
    "                if i != len(lst)-1:\n",
    "                    floor_df = floor_df.append({'RoomType':lst[0],'Link':lst[i+1]}, ignore_index=True)\n",
    "    return floor_df"
   ]
  },
  {
   "cell_type": "markdown",
   "metadata": {},
   "source": [
    "# The code that runs the functions"
   ]
  },
  {
   "cell_type": "code",
   "execution_count": 10,
   "metadata": {},
   "outputs": [],
   "source": [
    "for i in range(50):\n",
    "    for l in range(len(new_list_connections[i])):\n",
    "        pattern = check_pattern(new_list_connections[i][l])\n",
    "        if pattern:\n",
    "            floor_dictionary['floor'+str(i+1)] = add_pattern_connected(floor_dictionary['floor'+str(i+1)],new_list_connections[i][l])\n",
    "        else:\n",
    "            floor_dictionary['floor'+str(i+1)] = add_pattern_adjacent(floor_dictionary['floor'+str(i+1)],new_list_connections[i][l])\n",
    "            "
   ]
  },
  {
   "cell_type": "markdown",
   "metadata": {},
   "source": [
    "### To cross check results please type `new_list_connections[0]` and `floor_dictionary['floor1']` for 1st floor as shown below."
   ]
  },
  {
   "cell_type": "code",
   "execution_count": 11,
   "metadata": {},
   "outputs": [
    {
     "data": {
      "text/plain": [
       "['bedroom1, bedroom2, kitchen1, balcony1, washroom1, washroom2, balcony2 and livingroom1 are connected',\n",
       " 'bedroom1 is adjacent to balcony1, washroom1',\n",
       " 'bedroom2 is next to washroom2, balcony2',\n",
       " 'kitchen1 is adjacent to balcony2',\n",
       " 'washroom2 and washroom1 are connected']"
      ]
     },
     "execution_count": 11,
     "metadata": {},
     "output_type": "execute_result"
    }
   ],
   "source": [
    "new_list_connections[0]"
   ]
  },
  {
   "cell_type": "code",
   "execution_count": 12,
   "metadata": {},
   "outputs": [
    {
     "data": {
      "text/html": [
       "<div>\n",
       "<style scoped>\n",
       "    .dataframe tbody tr th:only-of-type {\n",
       "        vertical-align: middle;\n",
       "    }\n",
       "\n",
       "    .dataframe tbody tr th {\n",
       "        vertical-align: top;\n",
       "    }\n",
       "\n",
       "    .dataframe thead th {\n",
       "        text-align: right;\n",
       "    }\n",
       "</style>\n",
       "<table border=\"1\" class=\"dataframe\">\n",
       "  <thead>\n",
       "    <tr style=\"text-align: right;\">\n",
       "      <th></th>\n",
       "      <th>RoomType</th>\n",
       "      <th>Link</th>\n",
       "    </tr>\n",
       "  </thead>\n",
       "  <tbody>\n",
       "    <tr>\n",
       "      <td>0</td>\n",
       "      <td>bedroom1</td>\n",
       "      <td>bedroom2</td>\n",
       "    </tr>\n",
       "    <tr>\n",
       "      <td>1</td>\n",
       "      <td>bedroom2</td>\n",
       "      <td>kitchen1</td>\n",
       "    </tr>\n",
       "    <tr>\n",
       "      <td>2</td>\n",
       "      <td>kitchen1</td>\n",
       "      <td>balcony1</td>\n",
       "    </tr>\n",
       "    <tr>\n",
       "      <td>3</td>\n",
       "      <td>balcony1</td>\n",
       "      <td>washroom1</td>\n",
       "    </tr>\n",
       "    <tr>\n",
       "      <td>4</td>\n",
       "      <td>washroom1</td>\n",
       "      <td>washroom2</td>\n",
       "    </tr>\n",
       "    <tr>\n",
       "      <td>5</td>\n",
       "      <td>washroom2</td>\n",
       "      <td>balcony2</td>\n",
       "    </tr>\n",
       "    <tr>\n",
       "      <td>6</td>\n",
       "      <td>balcony2</td>\n",
       "      <td>livingroom1</td>\n",
       "    </tr>\n",
       "    <tr>\n",
       "      <td>7</td>\n",
       "      <td>livingroom1</td>\n",
       "      <td>bedroom1</td>\n",
       "    </tr>\n",
       "    <tr>\n",
       "      <td>8</td>\n",
       "      <td>bedroom1</td>\n",
       "      <td>balcony1</td>\n",
       "    </tr>\n",
       "    <tr>\n",
       "      <td>9</td>\n",
       "      <td>bedroom1</td>\n",
       "      <td>washroom1</td>\n",
       "    </tr>\n",
       "    <tr>\n",
       "      <td>10</td>\n",
       "      <td>bedroom2</td>\n",
       "      <td>washroom2</td>\n",
       "    </tr>\n",
       "    <tr>\n",
       "      <td>11</td>\n",
       "      <td>bedroom2</td>\n",
       "      <td>balcony2</td>\n",
       "    </tr>\n",
       "    <tr>\n",
       "      <td>12</td>\n",
       "      <td>kitchen1</td>\n",
       "      <td>balcony2</td>\n",
       "    </tr>\n",
       "    <tr>\n",
       "      <td>13</td>\n",
       "      <td>washroom2</td>\n",
       "      <td>washroom1</td>\n",
       "    </tr>\n",
       "    <tr>\n",
       "      <td>14</td>\n",
       "      <td>washroom1</td>\n",
       "      <td>washroom2</td>\n",
       "    </tr>\n",
       "  </tbody>\n",
       "</table>\n",
       "</div>"
      ],
      "text/plain": [
       "       RoomType         Link\n",
       "0      bedroom1     bedroom2\n",
       "1      bedroom2     kitchen1\n",
       "2      kitchen1     balcony1\n",
       "3      balcony1    washroom1\n",
       "4     washroom1    washroom2\n",
       "5     washroom2     balcony2\n",
       "6      balcony2  livingroom1\n",
       "7   livingroom1     bedroom1\n",
       "8      bedroom1     balcony1\n",
       "9      bedroom1    washroom1\n",
       "10     bedroom2    washroom2\n",
       "11     bedroom2     balcony2\n",
       "12     kitchen1     balcony2\n",
       "13    washroom2    washroom1\n",
       "14    washroom1    washroom2"
      ]
     },
     "execution_count": 12,
     "metadata": {},
     "output_type": "execute_result"
    }
   ],
   "source": [
    "floor_dictionary['floor1']"
   ]
  },
  {
   "cell_type": "markdown",
   "metadata": {},
   "source": []
  }
 ],
 "metadata": {
  "kernelspec": {
   "display_name": "Python 3",
   "language": "python",
   "name": "python3"
  },
  "language_info": {
   "codemirror_mode": {
    "name": "ipython",
    "version": 3
   },
   "file_extension": ".py",
   "mimetype": "text/x-python",
   "name": "python",
   "nbconvert_exporter": "python",
   "pygments_lexer": "ipython3",
   "version": "3.7.4"
  }
 },
 "nbformat": 4,
 "nbformat_minor": 2
}
